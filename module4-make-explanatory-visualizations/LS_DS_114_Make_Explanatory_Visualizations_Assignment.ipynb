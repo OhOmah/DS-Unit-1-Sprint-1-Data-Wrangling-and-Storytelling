{
  "nbformat": 4,
  "nbformat_minor": 0,
  "metadata": {
    "colab": {
      "name": "LS_DS_114_Make_Explanatory_Visualizations_Assignment.ipynb",
      "provenance": [],
      "collapsed_sections": [],
      "include_colab_link": true
    },
    "language_info": {
      "codemirror_mode": {
        "name": "ipython",
        "version": 3
      },
      "file_extension": ".py",
      "mimetype": "text/x-python",
      "name": "python",
      "nbconvert_exporter": "python",
      "pygments_lexer": "ipython3",
      "version": "3.7.1"
    },
    "kernelspec": {
      "display_name": "Python 3",
      "language": "python",
      "name": "python3"
    }
  },
  "cells": [
    {
      "cell_type": "markdown",
      "metadata": {
        "id": "view-in-github",
        "colab_type": "text"
      },
      "source": [
        "<a href=\"https://colab.research.google.com/github/OhOmah/DS-Unit-1-Sprint-1-Data-Wrangling-and-Storytelling/blob/master/module4-make-explanatory-visualizations/LS_DS_114_Make_Explanatory_Visualizations_Assignment.ipynb\" target=\"_parent\"><img src=\"https://colab.research.google.com/assets/colab-badge.svg\" alt=\"Open In Colab\"/></a>"
      ]
    },
    {
      "cell_type": "markdown",
      "metadata": {
        "colab_type": "text",
        "id": "NMEswXWh9mqw"
      },
      "source": [
        "Lambda School Data Science\n",
        "\n",
        "*Unit 1, Sprint 1, Module 4*\n",
        "\n",
        "---\n",
        "\n",
        "# ASSIGNMENT\n",
        "\n",
        "### 1) Replicate the lesson code. I recommend that you [do not copy-paste](https://docs.google.com/document/d/1ubOw9B3Hfip27hF2ZFnW3a3z9xAgrUDRReOEo-FHCVs/edit).\n",
        "\n",
        "Get caught up to where we got our example in class and then try and take things further. How close to \"pixel perfect\" can you make the lecture graph?\n",
        "\n",
        "Once you have something that you're proud of, share your graph in the cohort channel and move on to the second exercise.\n",
        "\n",
        "### 2) Reproduce another example from [FiveThityEight's shared data repository](https://data.fivethirtyeight.com/).\n",
        "\n",
        "**WARNING**: There are a lot of very custom graphs and tables at the above link. I **highly** recommend not trying to reproduce any that look like a table of values or something really different from the graph types that we are already familiar with. Search through the posts until you find a graph type that you are more or less familiar with: histogram, bar chart, stacked bar chart, line chart, [seaborn relplot](https://seaborn.pydata.org/generated/seaborn.relplot.html), etc. Recreating some of the graphics that 538 uses would be a lot easier in Adobe photoshop/illustrator than with matplotlib. \n",
        "\n",
        "- If you put in some time to find a graph that looks \"easy\" to replicate you'll probably find that it's not as easy as you thought. \n",
        "\n",
        "- If you start with a graph that looks hard to replicate you'll probably run up against a brick wall and be disappointed with your afternoon.\n",
        "\n",
        "\n",
        "\n",
        "\n",
        "\n",
        "\n",
        "\n",
        "\n",
        "\n",
        "\n"
      ]
    },
    {
      "cell_type": "code",
      "metadata": {
        "id": "7SY1ZHawyZvz",
        "colab_type": "code",
        "colab": {
          "base_uri": "https://localhost:8080/",
          "height": 327
        },
        "outputId": "4cbb1e92-9dd3-4356-b81a-40979a21d279"
      },
      "source": [
        "# Your Work Here\n",
        "# Importing Pandas, matplotlib and numpy \n",
        "%matplotlib inline\n",
        "import pandas as pd\n",
        "import matplotlib.pyplot as plt\n",
        "import numpy as np\n",
        "\n",
        "# Assigning fake as the height of the graph, before hand I have to assign fake first \n",
        "fake = pd.Series([38, 3, 2, 1, 2, 4, 6, 5, 5, 33],\n",
        "                 index=range(1,11))\n",
        "\n",
        "# Importing the five thirty eight style\n",
        "plt.style.use('fivethirtyeight')\n",
        "\n",
        "# Assigning the fig and ax points \n",
        "fig, ax = plt.subplots()\n",
        "\n",
        "# Messing with figure style \n",
        "\n",
        "fig.set_facecolor('white')\n",
        "\n",
        "# Also messing with the Axis color\n",
        "\n",
        "ax.set_facecolor('white')\n",
        "\n",
        "# Messing with the Axes Styles\n",
        "\n",
        "plt.bar(x=[1,2,3,4,5,6,7,8,9,10], height=fake, color='red', width=0.9)\n",
        "\n",
        "# Adding the Axis Labels\n",
        "ax.set_xlabel('Rating', fontsize=8, fontweight='bold')\n",
        "ax.set_ylabel('Percent of total votes', fontsize=8, fontweight='bold')\n",
        "\n",
        "# Now to fix the tickmarks and the grid lines\n",
        "\n",
        "ax.set_xticks([1,2,3,4,5,6,7,8,9,10])\n",
        "ax.set_yticks([0,10,20,30,40])\n",
        "\n",
        "ax.set_xticklabels([1,2,3,4,5,6,7,8,9,10], fontsize=8, color='#ABABAB')\n",
        "ax.set_yticklabels([0,10,20,30,'40%'], fontsize=8, color='grey')\n",
        "\n",
        "# Adding the title, making sure it's to the left and bold just like how it was in the fivethrityeight graph\n",
        "\n",
        "ax.set_title(\"'An Inconvenient Sequel: Truth To Power' is dissolve\", fontsize=11, x=.25, y=1.1, fontweight='bold')\n",
        "\n",
        "# Now adding the subtitle, which is a bit more tricky, adding a actually text and making sure it lines up perfectly\n",
        "\n",
        "ax.text(s='IMDb ratings for the film as of Aug.29', x=-1.85, y=43, fontsize=11)\n",
        "\n",
        "# Removing the spines\n",
        "\n",
        "ax.spines['left'].setvisible=False\n",
        "ax.spines['top'].setvisible=False\n",
        "ax.spines['right'].setvisble=False\n",
        "ax.spines['bottom'].setvisible=False\n",
        "\n",
        "plt.show()"
      ],
      "execution_count": 27,
      "outputs": [
        {
          "output_type": "display_data",
          "data": {
            "image/png": "[encoded data removed]",
            "text/plain": [
              "<Figure size 432x288 with 1 Axes>"
            ]
          },
          "metadata": {
            "tags": []
          }
        }
      ]
    },
    {
      "cell_type": "code",
      "metadata": {
        "id": "wleA943WH_cP",
        "colab_type": "code",
        "colab": {
          "base_uri": "https://localhost:8080/",
          "height": 355
        },
        "outputId": "32431378-1d65-4d93-a361-949fab6956d2"
      },
      "source": [
        "# Importing the original graph to compare \n",
        "from IPython.display import display, Image\n",
        "\n",
        "url = 'https://fivethirtyeight.com/wp-content/uploads/2017/09/mehtahickey-inconvenient-0830-1.png'\n",
        "example = Image(url=url, width=400)\n",
        "\n",
        "display(example)"
      ],
      "execution_count": 8,
      "outputs": [
        {
          "output_type": "display_data",
          "data": {
            "text/html": [
              "<img src=\"https://fivethirtyeight.com/wp-content/uploads/2017/09/mehtahickey-inconvenient-0830-1.png\" width=\"400\"/>"
            ],
            "text/plain": [
              "<IPython.core.display.Image object>"
            ]
          },
          "metadata": {
            "tags": []
          }
        }
      ]
    },
    {
      "cell_type": "code",
      "metadata": {
        "id": "-LZBFNTPHEJa",
        "colab_type": "code",
        "colab": {
          "base_uri": "https://localhost:8080/",
          "height": 408
        },
        "outputId": "bcbc1dbb-6fc1-4133-e90a-aa35298b7288"
      },
      "source": [
        "# Now with the lectures notes out of the way, time to create my own graph similar to a graph from FiveThirtyEight. \n",
        "\n",
        "# Importing the original graph\n",
        "from IPython.display import display, Image\n",
        "\n",
        "url= 'https://fivethirtyeight.com/wp-content/uploads/2020/04/rakich-SUNBELT-0409.png'\n",
        "example = Image(url=url, width =400)\n",
        "\n",
        "display(example)"
      ],
      "execution_count": 12,
      "outputs": [
        {
          "output_type": "display_data",
          "data": {
            "text/html": [
              "<img src=\"https://fivethirtyeight.com/wp-content/uploads/2020/04/rakich-SUNBELT-0409.png\" width=\"400\"/>"
            ],
            "text/plain": [
              "<IPython.core.display.Image object>"
            ]
          },
          "metadata": {
            "tags": []
          }
        }
      ]
    },
    {
      "cell_type": "code",
      "metadata": {
        "id": "vCPej7Y5PdJv",
        "colab_type": "code",
        "colab": {
          "base_uri": "https://localhost:8080/",
          "height": 322
        },
        "outputId": "9cd71aad-2acb-4854-86ac-fe544d760065"
      },
      "source": [
        "# This one is going to be a scatterplot, a bit more interesting to say the least \n",
        "%matplotlib inline\n",
        "import pandas as pd\n",
        "import matplotlib.pyplot as plt\n",
        "import numpy as np\n",
        "\n",
        "# Making sure that fig and ax a declared once more\n",
        "\n",
        "fig, ax = plt.subplots()\n",
        "\n",
        "# Setting the y plot points for the dem voters and the rep voters. \n",
        "dem_votey = [27, 4, 9, 1, 2, 12, 5, 13, 33, 15, 4, 13, 16, 27, 15, 2, 31, 13, 23]\n",
        "rep_votey = [-47, -20, -14, -30, -18, -37, -42, -27, -32, -28, -9, -30, -36, -21, -13, -1, -19, -3, -18, -5, -1, -8, -2, -9, -4, -2]\n",
        "\n",
        "# Setting the voter range for the dem and reps\n",
        "dem_votex = [8.9, 9, 9.8, 9.9, 10.5, 10.8, 11, 11.1, 11.2, 11.3, 11.35, 11.5, 11.65, 11.75, 11.7, 11.75, 12.3, 12.4, 12.5]\n",
        "rep_votex= [8.2, 8.4, 8.55, 8.5, 8.9, 9.1, 9.15, 9.3, 9.5, 9.55, 9.6, 9.7, 9.9, 10.2, 10.25, 10.3, 10.3, 10.4, 10.4, 10.5, 10.8, 10.82, 11.3, 11.35, 11.4, 11.5]\n",
        "\n",
        "# Setting the Y label, the x will be done in a more unique way. \n",
        "ax.set_ylabel('2016 presidential margin', fontweight='bold', fontsize=8)\n",
        "\n",
        "# Scattering my points \n",
        "ax.scatter(dem_votex, dem_votey, color='blue')\n",
        "ax.scatter(rep_votex, rep_votey, color='red')\n",
        "\n",
        "# Now fixing the tick marks and the grid lines to match the original scatterplot\n",
        "ax.set_xticks([8, 10, 12])\n",
        "ax.set_yticks([-50, -40, -30, -20, -10, 0, 10, 20, 30, 40, 50])\n",
        "\n",
        "# Going to mess with my ytick labels so I can have 'EVEN' in the middle just like the original scatterplot and have the R+50, D+50.. etc.\n",
        "ax.set_yticklabels(['R+50', 'R+40', 'R+30', 'R+20', \"R+10\", 'EVEN', 'D+10', 'D+20', 'D+30', 'D+40', 'D+50'], fontsize=8)\n",
        "\n",
        "# Now this is tricky, I want the bottom half to be red, 'EVEN' to be grey and the top half to be blue\n",
        "ax.tick_params(axis='y', labelcolor='blue')\n",
        "\n",
        "# Now I want to add the title and then the text on where the X-Axis would be\n",
        "ax.set_title('More desnesly populated states are more Democratic', y=1.2, fontweight='bold')\n",
        "\n",
        "# The subtext \n",
        "ax.text(s='The relationship between how urban a state is, according to', x=7.6, y=66)\n",
        "ax.text(s=\"FiveThirtyEight's urbanization indext, and its 2016 presidential margin\", x=7.6, y=60)\n",
        "\n",
        "plt.show()"
      ],
      "execution_count": 74,
      "outputs": [
        {
          "output_type": "display_data",
          "data": {
            "image/png": "[encoded data removed]",
            "text/plain": [
              "<Figure size 432x288 with 1 Axes>"
            ]
          },
          "metadata": {
            "tags": [],
            "needs_background": "light"
          }
        }
      ]
    },
    {
      "cell_type": "markdown",
      "metadata": {
        "id": "0wSrBzmJyWaV",
        "colab_type": "text"
      },
      "source": [
        "# STRETCH OPTIONS\n",
        "\n",
        "### 1) Reproduce one of the following using the matplotlib or seaborn libraries:\n",
        "\n",
        "- [thanksgiving-2015](https://fivethirtyeight.com/features/heres-what-your-part-of-america-eats-on-thanksgiving/) \n",
        "- [candy-power-ranking](https://fivethirtyeight.com/features/the-ultimate-halloween-candy-power-ranking/) \n",
        "- or another example of your choice!\n",
        "\n",
        "### 2) Make more charts!\n",
        "\n",
        "Choose a chart you want to make, from [Visual Vocabulary - Vega Edition](http://ft.com/vocabulary).\n",
        "\n",
        "Find the chart in an example gallery of a Python data visualization library:\n",
        "- [Seaborn](http://seaborn.pydata.org/examples/index.html)\n",
        "- [Altair](https://altair-viz.github.io/gallery/index.html)\n",
        "- [Matplotlib](https://matplotlib.org/gallery.html)\n",
        "- [Pandas](https://pandas.pydata.org/pandas-docs/stable/visualization.html)\n",
        "\n",
        "Reproduce the chart. [Optionally, try the \"Ben Franklin Method.\"](https://docs.google.com/document/d/1ubOw9B3Hfip27hF2ZFnW3a3z9xAgrUDRReOEo-FHCVs/edit) If you want, experiment and make changes.\n",
        "\n",
        "Take notes. Consider sharing your work with your cohort!"
      ]
    },
    {
      "cell_type": "code",
      "metadata": {
        "id": "dRJkKftiy5BJ",
        "colab_type": "code",
        "colab": {}
      },
      "source": [
        "# More Work Here"
      ],
      "execution_count": null,
      "outputs": []
    }
  ]
}